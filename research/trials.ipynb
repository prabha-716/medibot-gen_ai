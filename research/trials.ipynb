{
 "cells": [
  {
   "cell_type": "code",
   "execution_count": 16,
   "id": "5b7fcc0b",
   "metadata": {},
   "outputs": [
    {
     "data": {
      "text/plain": [
       "'C:\\\\Users\\\\prabh\\\\Desktop\\\\MEDBOT-GEN\\\\Data'"
      ]
     },
     "execution_count": 16,
     "metadata": {},
     "output_type": "execute_result"
    }
   ],
   "source": [
    "import os \n",
    "os.chdir(r\"C:\\Users\\prabh\\Desktop\\MEDBOT-GEN\\Data\")\n",
    "\n",
    "# Confirm current location\n",
    "%pwd  # Should list your PDF files"
   ]
  },
  {
   "cell_type": "code",
   "execution_count": 17,
   "id": "e7938cbf",
   "metadata": {},
   "outputs": [
    {
     "data": {
      "text/plain": [
       "'C:\\\\Users\\\\prabh\\\\Desktop\\\\MEDBOT-GEN'"
      ]
     },
     "execution_count": 17,
     "metadata": {},
     "output_type": "execute_result"
    }
   ],
   "source": [
    "os.chdir('../')\n",
    "%pwd"
   ]
  },
  {
   "cell_type": "code",
   "execution_count": 18,
   "id": "8c89b7fe",
   "metadata": {},
   "outputs": [],
   "source": [
    "from langchain.document_loaders import PyPDFLoader,DirectoryLoader\n",
    "from langchain.text_splitter import RecursiveCharacterTextSplitter\n"
   ]
  },
  {
   "cell_type": "code",
   "execution_count": 19,
   "id": "86655c7d",
   "metadata": {},
   "outputs": [],
   "source": [
    "def  load_pdf_file(data):\n",
    "    loader=DirectoryLoader(data,\n",
    "                           glob=\"*.pdf\",\n",
    "                           loader_cls=PyPDFLoader)\n",
    "    documents=loader.load()\n",
    "    return documents"
   ]
  },
  {
   "cell_type": "code",
   "execution_count": 20,
   "id": "bb6c6e58",
   "metadata": {},
   "outputs": [],
   "source": [
    "extracted_data=load_pdf_file(data=\"Data/\")"
   ]
  },
  {
   "cell_type": "code",
   "execution_count": 21,
   "id": "cce50e33",
   "metadata": {},
   "outputs": [],
   "source": [
    "def text_splitter(extracted_data):\n",
    "    text_splitter=RecursiveCharacterTextSplitter(chunk_size=500,chunk_overlap=20)\n",
    "    text_chunks=text_splitter.split_documents(extracted_data)\n",
    "    return text_chunks"
   ]
  },
  {
   "cell_type": "code",
   "execution_count": 22,
   "id": "a603b3a5",
   "metadata": {},
   "outputs": [],
   "source": [
    "text_chunks=text_splitter(extracted_data)\n",
    "# text_chunks"
   ]
  },
  {
   "cell_type": "code",
   "execution_count": 23,
   "id": "906ad7f5",
   "metadata": {},
   "outputs": [
    {
     "name": "stdout",
     "output_type": "stream",
     "text": [
      "^C\n"
     ]
    },
    {
     "name": "stdout",
     "output_type": "stream",
     "text": [
      "Requirement already satisfied: sentence-transformers in c:\\users\\prabh\\miniconda3\\envs\\medibot\\lib\\site-packages (3.1.1)\n",
      "Collecting sentence-transformers\n",
      "  Using cached sentence_transformers-5.0.0-py3-none-any.whl.metadata (16 kB)\n",
      "Requirement already satisfied: huggingface-hub==0.19.4 in c:\\users\\prabh\\miniconda3\\envs\\medibot\\lib\\site-packages (0.19.4)\n",
      "Requirement already satisfied: filelock in c:\\users\\prabh\\miniconda3\\envs\\medibot\\lib\\site-packages (from huggingface-hub==0.19.4) (3.18.0)\n",
      "Requirement already satisfied: fsspec>=2023.5.0 in c:\\users\\prabh\\miniconda3\\envs\\medibot\\lib\\site-packages (from huggingface-hub==0.19.4) (2025.7.0)\n",
      "Requirement already satisfied: requests in c:\\users\\prabh\\miniconda3\\envs\\medibot\\lib\\site-packages (from huggingface-hub==0.19.4) (2.32.4)\n",
      "Requirement already satisfied: tqdm>=4.42.1 in c:\\users\\prabh\\miniconda3\\envs\\medibot\\lib\\site-packages (from huggingface-hub==0.19.4) (4.67.1)\n",
      "Requirement already satisfied: pyyaml>=5.1 in c:\\users\\prabh\\miniconda3\\envs\\medibot\\lib\\site-packages (from huggingface-hub==0.19.4) (6.0.2)\n",
      "Requirement already satisfied: typing-extensions>=3.7.4.3 in c:\\users\\prabh\\miniconda3\\envs\\medibot\\lib\\site-packages (from huggingface-hub==0.19.4) (4.14.1)\n",
      "Requirement already satisfied: packaging>=20.9 in c:\\users\\prabh\\miniconda3\\envs\\medibot\\lib\\site-packages (from huggingface-hub==0.19.4) (24.2)\n",
      "Collecting transformers<5.0.0,>=4.41.0 (from sentence-transformers)\n",
      "  Using cached transformers-4.53.3-py3-none-any.whl.metadata (40 kB)\n",
      "Requirement already satisfied: torch>=1.11.0 in c:\\users\\prabh\\miniconda3\\envs\\medibot\\lib\\site-packages (from sentence-transformers) (2.7.1)\n",
      "Requirement already satisfied: scikit-learn in c:\\users\\prabh\\miniconda3\\envs\\medibot\\lib\\site-packages (from sentence-transformers) (1.7.1)\n",
      "Requirement already satisfied: scipy in c:\\users\\prabh\\miniconda3\\envs\\medibot\\lib\\site-packages (from sentence-transformers) (1.15.3)\n",
      "INFO: pip is looking at multiple versions of sentence-transformers to determine which version is compatible with other requirements. This could take a while.\n",
      "Collecting sentence-transformers\n",
      "  Using cached sentence_transformers-4.1.0-py3-none-any.whl.metadata (13 kB)\n",
      "  Using cached sentence_transformers-4.0.2-py3-none-any.whl.metadata (13 kB)\n",
      "  Using cached sentence_transformers-4.0.1-py3-none-any.whl.metadata (13 kB)\n",
      "  Using cached sentence_transformers-4.0.0-py3-none-any.whl.metadata (13 kB)\n",
      "  Using cached sentence_transformers-3.4.1-py3-none-any.whl.metadata (10 kB)\n",
      "  Using cached sentence_transformers-3.4.0-py3-none-any.whl.metadata (10 kB)\n",
      "  Using cached sentence_transformers-3.3.1-py3-none-any.whl.metadata (10 kB)\n",
      "INFO: pip is still looking at multiple versions of sentence-transformers to determine which version is compatible with other requirements. This could take a while.\n",
      "  Using cached sentence_transformers-3.3.0-py3-none-any.whl.metadata (10 kB)\n",
      "  Using cached sentence_transformers-3.2.1-py3-none-any.whl.metadata (10 kB)\n",
      "  Using cached sentence_transformers-3.2.0-py3-none-any.whl.metadata (10 kB)\n",
      "Requirement already satisfied: transformers<5.0.0,>=4.38.0 in c:\\users\\prabh\\miniconda3\\envs\\medibot\\lib\\site-packages (from sentence-transformers) (4.40.2)\n",
      "Requirement already satisfied: Pillow in c:\\users\\prabh\\miniconda3\\envs\\medibot\\lib\\site-packages (from sentence-transformers) (11.3.0)\n",
      "Requirement already satisfied: numpy>=1.17 in c:\\users\\prabh\\miniconda3\\envs\\medibot\\lib\\site-packages (from transformers<5.0.0,>=4.38.0->sentence-transformers) (2.2.6)\n",
      "Requirement already satisfied: regex!=2019.12.17 in c:\\users\\prabh\\miniconda3\\envs\\medibot\\lib\\site-packages (from transformers<5.0.0,>=4.38.0->sentence-transformers) (2024.11.6)\n",
      "Requirement already satisfied: tokenizers<0.20,>=0.19 in c:\\users\\prabh\\miniconda3\\envs\\medibot\\lib\\site-packages (from transformers<5.0.0,>=4.38.0->sentence-transformers) (0.19.1)\n",
      "Requirement already satisfied: safetensors>=0.4.1 in c:\\users\\prabh\\miniconda3\\envs\\medibot\\lib\\site-packages (from transformers<5.0.0,>=4.38.0->sentence-transformers) (0.5.3)\n",
      "Requirement already satisfied: sympy>=1.13.3 in c:\\users\\prabh\\miniconda3\\envs\\medibot\\lib\\site-packages (from torch>=1.11.0->sentence-transformers) (1.14.0)\n",
      "Requirement already satisfied: networkx in c:\\users\\prabh\\miniconda3\\envs\\medibot\\lib\\site-packages (from torch>=1.11.0->sentence-transformers) (3.4.2)\n",
      "Requirement already satisfied: jinja2 in c:\\users\\prabh\\miniconda3\\envs\\medibot\\lib\\site-packages (from torch>=1.11.0->sentence-transformers) (3.1.6)\n",
      "Requirement already satisfied: mpmath<1.4,>=1.1.0 in c:\\users\\prabh\\miniconda3\\envs\\medibot\\lib\\site-packages (from sympy>=1.13.3->torch>=1.11.0->sentence-transformers) (1.3.0)\n",
      "Requirement already satisfied: colorama in c:\\users\\prabh\\miniconda3\\envs\\medibot\\lib\\site-packages (from tqdm>=4.42.1->huggingface-hub==0.19.4) (0.4.6)\n",
      "Requirement already satisfied: MarkupSafe>=2.0 in c:\\users\\prabh\\miniconda3\\envs\\medibot\\lib\\site-packages (from jinja2->torch>=1.11.0->sentence-transformers) (3.0.2)\n",
      "Requirement already satisfied: charset_normalizer<4,>=2 in c:\\users\\prabh\\miniconda3\\envs\\medibot\\lib\\site-packages (from requests->huggingface-hub==0.19.4) (3.4.2)\n",
      "Requirement already satisfied: idna<4,>=2.5 in c:\\users\\prabh\\miniconda3\\envs\\medibot\\lib\\site-packages (from requests->huggingface-hub==0.19.4) (3.10)\n",
      "Requirement already satisfied: urllib3<3,>=1.21.1 in c:\\users\\prabh\\miniconda3\\envs\\medibot\\lib\\site-packages (from requests->huggingface-hub==0.19.4) (2.5.0)\n",
      "Requirement already satisfied: certifi>=2017.4.17 in c:\\users\\prabh\\miniconda3\\envs\\medibot\\lib\\site-packages (from requests->huggingface-hub==0.19.4) (2025.7.14)\n",
      "Requirement already satisfied: joblib>=1.2.0 in c:\\users\\prabh\\miniconda3\\envs\\medibot\\lib\\site-packages (from scikit-learn->sentence-transformers) (1.5.1)\n",
      "Requirement already satisfied: threadpoolctl>=3.1.0 in c:\\users\\prabh\\miniconda3\\envs\\medibot\\lib\\site-packages (from scikit-learn->sentence-transformers) (3.6.0)\n"
     ]
    }
   ],
   "source": [
    "!pip install -U sentence-transformers huggingface-hub==0.19.4\n"
   ]
  },
  {
   "cell_type": "code",
   "execution_count": 24,
   "id": "defb8f81",
   "metadata": {},
   "outputs": [
    {
     "name": "stdout",
     "output_type": "stream",
     "text": [
      "[ 0.01223582 -0.02567114 -0.00795485 -0.01180924  0.00740596]\n"
     ]
    }
   ],
   "source": [
    "from sentence_transformers import SentenceTransformer\n",
    "\n",
    "model = SentenceTransformer(\"all-MiniLM-L6-v2\")\n",
    "emb = model.encode(\"Medical AI is evolving.\")\n",
    "print(emb[:5])\n"
   ]
  },
  {
   "cell_type": "code",
   "execution_count": 27,
   "id": "899e50ad",
   "metadata": {},
   "outputs": [],
   "source": [
    "from langchain_community.embeddings import HuggingFaceBgeEmbeddings\n",
    "def download_hugging_face_embeddings():\n",
    "    embeddings = HuggingFaceBgeEmbeddings(model_name=\"sentence-transformers/all-MiniLM-L6-v2\")\n",
    "    return embeddings"
   ]
  },
  {
   "cell_type": "code",
   "execution_count": 29,
   "id": "5118977c",
   "metadata": {},
   "outputs": [],
   "source": [
    "embed=download_hugging_face_embeddings()"
   ]
  },
  {
   "cell_type": "code",
   "execution_count": null,
   "id": "c759b48e",
   "metadata": {},
   "outputs": [
    {
     "name": "stdout",
     "output_type": "stream",
     "text": [
      "384\n"
     ]
    }
   ],
   "source": [
    "# query=embed.embed_query(\"hello world\")\n",
    "# print(len(query))"
   ]
  },
  {
   "cell_type": "code",
   "execution_count": 30,
   "id": "7a7d5ef6",
   "metadata": {},
   "outputs": [
    {
     "data": {
      "text/plain": [
       "False"
      ]
     },
     "execution_count": 30,
     "metadata": {},
     "output_type": "execute_result"
    }
   ],
   "source": [
    "from dotenv import load_dotenv\n",
    "load_dotenv()"
   ]
  },
  {
   "cell_type": "code",
   "execution_count": 32,
   "id": "27045c95",
   "metadata": {},
   "outputs": [],
   "source": [
    "import os\n",
    "PINECONE_KEY=os.environ.get('pinecone_key')\n"
   ]
  },
  {
   "cell_type": "code",
   "execution_count": 45,
   "id": "c7723563",
   "metadata": {},
   "outputs": [
    {
     "data": {
      "text/plain": [
       "{\n",
       "    \"name\": \"medicobot\",\n",
       "    \"metric\": \"cosine\",\n",
       "    \"host\": \"medicobot-y024lfp.svc.aped-4627-b74a.pinecone.io\",\n",
       "    \"spec\": {\n",
       "        \"serverless\": {\n",
       "            \"cloud\": \"aws\",\n",
       "            \"region\": \"us-east-1\"\n",
       "        }\n",
       "    },\n",
       "    \"status\": {\n",
       "        \"ready\": true,\n",
       "        \"state\": \"Ready\"\n",
       "    },\n",
       "    \"vector_type\": \"dense\",\n",
       "    \"dimension\": 384,\n",
       "    \"deletion_protection\": \"disabled\",\n",
       "    \"tags\": null\n",
       "}"
      ]
     },
     "execution_count": 45,
     "metadata": {},
     "output_type": "execute_result"
    }
   ],
   "source": [
    "from pinecone.grpc import PineconeGRPC as Pinecone\n",
    "from pinecone import ServerlessSpec\n",
    "\n",
    "pc=Pinecone(api_key=PINECONE_KEY)\n",
    "\n",
    "index_name=\"medicobot\"\n",
    "\n",
    "pc.create_index(\n",
    "    name=index_name,\n",
    "    dimension=384,\n",
    "    metric=\"cosine\",\n",
    "    spec=ServerlessSpec(\n",
    "        cloud=\"aws\",\n",
    "        region=\"us-east-1\"\n",
    "    )\n",
    ")"
   ]
  },
  {
   "cell_type": "code",
   "execution_count": 62,
   "id": "1b0f4b08",
   "metadata": {},
   "outputs": [],
   "source": [
    "import os\n",
    "\n",
    "os.environ[\"PINECONE_API_KEY\"] = \"pcsk_4Cfm7C_Bxz4uqNrxBsEX351yhNbEU9o1RnJq5Znz5fZYG5MnEHd76y2jmVZ3UbTfwvvyng\"\n",
    "os.environ[\"PINECONE_ENVIRONMENT\"] = \"us-east-1\"  # Not always needed, but helps\n",
    "\n",
    "# Optional: define host explicitly if using Serverless\n",
    "os.environ[\"PINECONE_HOST\"] = \"medicobot-y024lfp.svc.aped-4627-b74a.pinecone.io\"\n"
   ]
  },
  {
   "cell_type": "code",
   "execution_count": 63,
   "id": "0fdf482b",
   "metadata": {},
   "outputs": [
    {
     "name": "stdout",
     "output_type": "stream",
     "text": [
      "[{\n",
      "    \"name\": \"medicobot\",\n",
      "    \"metric\": \"cosine\",\n",
      "    \"host\": \"medicobot-y024lfp.svc.aped-4627-b74a.pinecone.io\",\n",
      "    \"spec\": {\n",
      "        \"serverless\": {\n",
      "            \"cloud\": \"aws\",\n",
      "            \"region\": \"us-east-1\"\n",
      "        }\n",
      "    },\n",
      "    \"status\": {\n",
      "        \"ready\": true,\n",
      "        \"state\": \"Ready\"\n",
      "    },\n",
      "    \"vector_type\": \"dense\",\n",
      "    \"dimension\": 384,\n",
      "    \"deletion_protection\": \"disabled\",\n",
      "    \"tags\": null\n",
      "}]\n"
     ]
    }
   ],
   "source": [
    "from pinecone import Pinecone, ServerlessSpec\n",
    "\n",
    "pc = Pinecone(api_key=\"pcsk_4Cfm7C_Bxz4uqNrxBsEX351yhNbEU9o1RnJq5Znz5fZYG5MnEHd76y2jmVZ3UbTfwvvyng\")\n",
    "\n",
    "# Optional: verify index\n",
    "print(pc.list_indexes())\n"
   ]
  },
  {
   "cell_type": "code",
   "execution_count": 64,
   "id": "28bd3c4d",
   "metadata": {},
   "outputs": [
    {
     "name": "stderr",
     "output_type": "stream",
     "text": [
      "Index host ignored when initializing with index object.\n"
     ]
    }
   ],
   "source": [
    "from langchain_pinecone import PineconeVectorStore\n",
    "\n",
    "docsearch = PineconeVectorStore.from_documents(\n",
    "    documents=text_chunks,\n",
    "    index_name=index_name,\n",
    "    embedding=embed,\n",
    ")\n"
   ]
  },
  {
   "cell_type": "code",
   "execution_count": 65,
   "id": "333bc030",
   "metadata": {},
   "outputs": [
    {
     "name": "stderr",
     "output_type": "stream",
     "text": [
      "Index host ignored when initializing with index object.\n"
     ]
    }
   ],
   "source": [
    "from langchain_pinecone import PineconeVectorStore\n",
    "\n",
    "docsearch=PineconeVectorStore.from_existing_index(\n",
    "    index_name=index_name,\n",
    "    embedding=embed\n",
    ")"
   ]
  },
  {
   "cell_type": "code",
   "execution_count": 66,
   "id": "c0c81d5c",
   "metadata": {},
   "outputs": [
    {
     "data": {
      "text/plain": [
       "<langchain_pinecone.vectorstores.PineconeVectorStore at 0x233a7336fe0>"
      ]
     },
     "execution_count": 66,
     "metadata": {},
     "output_type": "execute_result"
    }
   ],
   "source": [
    "docsearch"
   ]
  },
  {
   "cell_type": "code",
   "execution_count": 67,
   "id": "b8d88ac5",
   "metadata": {},
   "outputs": [],
   "source": [
    "retriever=docsearch.as_retriever(search_type=\"similarity\",search_kwargs={\"k\":3})"
   ]
  },
  {
   "cell_type": "code",
   "execution_count": 68,
   "id": "b0d18efe",
   "metadata": {},
   "outputs": [],
   "source": [
    "retrieved_docs=retriever.invoke(\"what is Acne ?\")"
   ]
  },
  {
   "cell_type": "code",
   "execution_count": 69,
   "id": "2c91c424",
   "metadata": {},
   "outputs": [
    {
     "data": {
      "text/plain": [
       "[Document(id='73873e53-6a0f-4e1c-88de-42148e60fb69', metadata={'creationdate': '2004-12-18T17:52:16-05:00', 'creator': 'PyPDF', 'moddate': '2004-12-18T18:38:56-06:00', 'page': 624.0, 'page_label': '625', 'producer': 'PDFlib+PDI 5.0.0 (SunOS)', 'source': 'Data\\\\medical_book.pdf', 'total_pages': 940.0}, page_content='Helm, Klaus F., and James G. Marks, Jr. Atlas of Differential\\nDiagnosis in Dermatology. New York: Churchill Living-\\nstone, 1998.\\nMacsai, Marian S., et al. “Acne Rosacea.” In Eye and Skin Dis-\\nease, ed. Mark J. Mannis, et al. Philadelphia: Lippincott-\\nRaven, 1996.\\nPERIODICALS\\nJansen, Thomas, and Gerd Plewig. “Rosacea: Classification\\nand Treatment.”Journal of the Royal Society of Medicine\\n90 (Mar. 1997): 144-150.\\nThiboutot, Diane M. “Acne Rosacea.”American Family Physi-'),\n",
       " Document(id='5fe185ec-bd5d-4ce8-b039-82853a24afff', metadata={'creationdate': '2004-12-18T17:52:16-05:00', 'creator': 'PyPDF', 'moddate': '2004-12-18T18:38:56-06:00', 'page': 685.0, 'page_label': '686', 'producer': 'PDFlib+PDI 5.0.0 (SunOS)', 'source': 'Data\\\\medical_book.pdf', 'total_pages': 940.0}, page_content='rare disorder characterized by an abnormal increase in\\nthe number of mature red cells in the blood.\\nGALE ENCYCLOPEDIA OF MEDICINE 2 2981\\nSecondary polycythemia\\nThis young boy is afflicted with seborrheic dermatitis.(Cus-\\ntom Medical Stock Photo. Reproduced by permission.)\\nKEY TERMS\\nAcne—A chronic inflammation of the sebaceous\\nglands that manifests as blackheads, whiteheads,\\nand/or pustules on the face or trunk.\\nPsoriasis—A skin disorder of chronic, itchy scaling'),\n",
       " Document(id='f54d33f0-c238-4861-b53d-9bef3baac300', metadata={'creationdate': '2004-12-18T17:52:16-05:00', 'creator': 'PyPDF', 'moddate': '2004-12-18T18:38:56-06:00', 'page': 622.0, 'page_label': '623', 'producer': 'PDFlib+PDI 5.0.0 (SunOS)', 'source': 'Data\\\\medical_book.pdf', 'total_pages': 940.0}, page_content='matologist will attempt to rule out a number of other dis-\\neases that have similar symptoms. Acne vulgaris is per-\\nhaps the disorder most commonly mistaken for rosacea,\\nbut redness and spider-like veins are not observed in\\npatients with acne. Blackheads and cysts, however, are\\nseen in acne patients, but not in those with rosacea.\\nOther diseases that produce some of the same symp-\\ntoms as rosacea include perioral dermatitis and sys-\\ntemic lupus erythematosus.\\nTreatment')]"
      ]
     },
     "execution_count": 69,
     "metadata": {},
     "output_type": "execute_result"
    }
   ],
   "source": [
    "retrieved_docs"
   ]
  },
  {
   "cell_type": "code",
   "execution_count": null,
   "id": "893cd137",
   "metadata": {},
   "outputs": [],
   "source": []
  }
 ],
 "metadata": {
  "kernelspec": {
   "display_name": "medibot",
   "language": "python",
   "name": "python3"
  },
  "language_info": {
   "codemirror_mode": {
    "name": "ipython",
    "version": 3
   },
   "file_extension": ".py",
   "mimetype": "text/x-python",
   "name": "python",
   "nbconvert_exporter": "python",
   "pygments_lexer": "ipython3",
   "version": "3.10.18"
  }
 },
 "nbformat": 4,
 "nbformat_minor": 5
}
